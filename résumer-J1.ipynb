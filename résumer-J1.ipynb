{
 "cells": [
  {
   "cell_type": "code",
   "execution_count": 3,
   "id": "a9da5433-030e-48cf-b799-0d7499deb6d1",
   "metadata": {},
   "outputs": [],
   "source": [
    "def f(x):\n",
    "    return x*x"
   ]
  },
  {
   "cell_type": "code",
   "execution_count": 4,
   "id": "574823d3-8b18-4c52-b3ca-0faec19627ba",
   "metadata": {},
   "outputs": [
    {
     "data": {
      "text/plain": [
       "4"
      ]
     },
     "execution_count": 4,
     "metadata": {},
     "output_type": "execute_result"
    }
   ],
   "source": [
    "f(2)"
   ]
  },
  {
   "cell_type": "code",
   "execution_count": 15,
   "id": "ff35b773-3be3-4c59-b892-910891b06a94",
   "metadata": {},
   "outputs": [
    {
     "ename": "SyntaxError",
     "evalue": "invalid syntax (2437269446.py, line 1)",
     "output_type": "error",
     "traceback": [
      "\u001b[0;36m  Cell \u001b[0;32mIn[15], line 1\u001b[0;36m\u001b[0m\n\u001b[0;31m    def f('a')\u001b[0m\n\u001b[0m          ^\u001b[0m\n\u001b[0;31mSyntaxError\u001b[0m\u001b[0;31m:\u001b[0m invalid syntax\n"
     ]
    }
   ],
   "source": [
    "def f('a')"
   ]
  },
  {
   "cell_type": "code",
   "execution_count": 19,
   "id": "a3da5b64-b1cf-480f-8b51-e9d7b297eabc",
   "metadata": {},
   "outputs": [
    {
     "data": {
      "text/plain": [
       "'aa'"
      ]
     },
     "execution_count": 19,
     "metadata": {},
     "output_type": "execute_result"
    }
   ],
   "source": [
    "f2('a')"
   ]
  },
  {
   "cell_type": "code",
   "execution_count": 17,
   "id": "1d043dd8-b536-44c4-bf3b-d2dc189e8d0d",
   "metadata": {},
   "outputs": [],
   "source": [
    "def f2(y):\n",
    "    return y+ 'a'"
   ]
  },
  {
   "cell_type": "code",
   "execution_count": 18,
   "id": "2e84b022-cc1a-43e7-a250-3b1f57c40297",
   "metadata": {},
   "outputs": [
    {
     "data": {
      "text/plain": [
       "'aaa'"
      ]
     },
     "execution_count": 18,
     "metadata": {},
     "output_type": "execute_result"
    }
   ],
   "source": [
    "'a'*3"
   ]
  },
  {
   "cell_type": "code",
   "execution_count": 23,
   "id": "73bc571e-18b5-49e8-82c0-2ba9ded4da72",
   "metadata": {},
   "outputs": [],
   "source": [
    "def f3(y:str) -> str:\n",
    "    res = y +\"a\"\n",
    "    return res"
   ]
  },
  {
   "cell_type": "code",
   "execution_count": 26,
   "id": "63bd7aa9-5674-4d1e-887c-4dff5693b872",
   "metadata": {},
   "outputs": [
    {
     "data": {
      "text/plain": [
       "<function __main__.f3(y: str) -> str>"
      ]
     },
     "execution_count": 26,
     "metadata": {},
     "output_type": "execute_result"
    }
   ],
   "source": [
    "f3"
   ]
  },
  {
   "cell_type": "code",
   "execution_count": 27,
   "id": "59e4942c-4f66-4711-9ae5-718111c2b9bf",
   "metadata": {},
   "outputs": [
    {
     "name": "stdout",
     "output_type": "stream",
     "text": [
      "/home/lukas\n"
     ]
    }
   ],
   "source": [
    "!pwd"
   ]
  },
  {
   "cell_type": "code",
   "execution_count": 29,
   "id": "e8151bfb-4198-48c4-a34d-3feed0714579",
   "metadata": {},
   "outputs": [],
   "source": [
    "t = [1,2,3]"
   ]
  },
  {
   "cell_type": "code",
   "execution_count": 30,
   "id": "779202c5-6c4a-4e57-82a3-d5a3d7ae7316",
   "metadata": {},
   "outputs": [
    {
     "data": {
      "text/plain": [
       "2"
      ]
     },
     "execution_count": 30,
     "metadata": {},
     "output_type": "execute_result"
    }
   ],
   "source": [
    "t[1]"
   ]
  },
  {
   "cell_type": "code",
   "execution_count": 31,
   "id": "27238c3d-7c91-4cd0-8103-3986ca3bf1d9",
   "metadata": {},
   "outputs": [
    {
     "data": {
      "text/plain": [
       "1"
      ]
     },
     "execution_count": 31,
     "metadata": {},
     "output_type": "execute_result"
    }
   ],
   "source": [
    "t[0]"
   ]
  },
  {
   "cell_type": "code",
   "execution_count": 32,
   "id": "043e138c-534f-4218-8d14-293d8fbb162f",
   "metadata": {},
   "outputs": [
    {
     "ename": "IndexError",
     "evalue": "list index out of range",
     "output_type": "error",
     "traceback": [
      "\u001b[0;31m---------------------------------------------------------------------------\u001b[0m",
      "\u001b[0;31mIndexError\u001b[0m                                Traceback (most recent call last)",
      "Cell \u001b[0;32mIn[32], line 1\u001b[0m\n\u001b[0;32m----> 1\u001b[0m \u001b[43mt\u001b[49m\u001b[43m[\u001b[49m\u001b[38;5;241;43m4\u001b[39;49m\u001b[43m]\u001b[49m\n",
      "\u001b[0;31mIndexError\u001b[0m: list index out of range"
     ]
    }
   ],
   "source": [
    "t[4]"
   ]
  },
  {
   "cell_type": "code",
   "execution_count": 33,
   "id": "2850bdd4-556d-4ccc-bd87-bd850991f43a",
   "metadata": {},
   "outputs": [
    {
     "data": {
      "text/plain": [
       "3"
      ]
     },
     "execution_count": 33,
     "metadata": {},
     "output_type": "execute_result"
    }
   ],
   "source": [
    "t[-1]"
   ]
  },
  {
   "cell_type": "code",
   "execution_count": 35,
   "id": "d3dccf70-524e-4ac9-8636-58207db28383",
   "metadata": {},
   "outputs": [],
   "source": [
    "t.append(4)"
   ]
  },
  {
   "cell_type": "code",
   "execution_count": 36,
   "id": "d5c21c54-0cdc-4194-b3fd-54430b66e5b5",
   "metadata": {},
   "outputs": [
    {
     "data": {
      "text/plain": [
       "[1, 2, 3, 4]"
      ]
     },
     "execution_count": 36,
     "metadata": {},
     "output_type": "execute_result"
    }
   ],
   "source": [
    "t"
   ]
  },
  {
   "cell_type": "code",
   "execution_count": 38,
   "id": "3346e0e7-c0f6-41ec-a95c-4306365e18b8",
   "metadata": {},
   "outputs": [],
   "source": [
    "t.append([4])"
   ]
  },
  {
   "cell_type": "code",
   "execution_count": 39,
   "id": "bcd9f116-f94e-4bd2-a2fe-ee4e0d08349a",
   "metadata": {},
   "outputs": [
    {
     "data": {
      "text/plain": [
       "[1, 2, 3, 4, [4]]"
      ]
     },
     "execution_count": 39,
     "metadata": {},
     "output_type": "execute_result"
    }
   ],
   "source": [
    "t"
   ]
  },
  {
   "cell_type": "code",
   "execution_count": 40,
   "id": "51fd45eb-3050-4448-90cc-14430f3a3016",
   "metadata": {},
   "outputs": [
    {
     "data": {
      "text/plain": [
       "[4]"
      ]
     },
     "execution_count": 40,
     "metadata": {},
     "output_type": "execute_result"
    }
   ],
   "source": [
    "t[4]"
   ]
  },
  {
   "cell_type": "code",
   "execution_count": 42,
   "id": "a6e59420-4084-4425-a30a-c11728bf8b62",
   "metadata": {},
   "outputs": [],
   "source": [
    "t[4].append (5)"
   ]
  },
  {
   "cell_type": "code",
   "execution_count": 43,
   "id": "ab45e53c-67ab-490d-bc0f-dd906423baa8",
   "metadata": {},
   "outputs": [
    {
     "data": {
      "text/plain": [
       "[1, 2, 3, 4, [4, 5]]"
      ]
     },
     "execution_count": 43,
     "metadata": {},
     "output_type": "execute_result"
    }
   ],
   "source": [
    "t"
   ]
  },
  {
   "cell_type": "code",
   "execution_count": null,
   "id": "2c9e24f9-38e9-4128-9fc6-3e721810b7be",
   "metadata": {},
   "outputs": [],
   "source": []
  }
 ],
 "metadata": {
  "kernelspec": {
   "display_name": "Python 3 (ipykernel)",
   "language": "python",
   "name": "python3"
  },
  "language_info": {
   "codemirror_mode": {
    "name": "ipython",
    "version": 3
   },
   "file_extension": ".py",
   "mimetype": "text/x-python",
   "name": "python",
   "nbconvert_exporter": "python",
   "pygments_lexer": "ipython3",
   "version": "3.11.9"
  }
 },
 "nbformat": 4,
 "nbformat_minor": 5
}
