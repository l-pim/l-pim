{
 "cells": [
  {
   "cell_type": "code",
   "execution_count": null,
   "id": "5bef60b3-dab5-4412-9a64-0aaa3f9f39e7",
   "metadata": {},
   "outputs": [],
   "source": []
  }
 ],
 "metadata": {
  "kernelspec": {
   "display_name": "",
   "name": ""
  },
  "language_info": {
   "name": ""
  }
 },
 "nbformat": 4,
 "nbformat_minor": 5
}
